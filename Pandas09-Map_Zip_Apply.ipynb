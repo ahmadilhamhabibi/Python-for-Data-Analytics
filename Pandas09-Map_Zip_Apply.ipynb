{
 "cells": [
  {
   "cell_type": "markdown",
   "id": "e4566b35",
   "metadata": {},
   "source": [
    "# Learn to use Map(), Zip() and Apply()"
   ]
  },
  {
   "cell_type": "markdown",
   "id": "b5ae1ccb",
   "metadata": {},
   "source": [
    "Let's start with map().\n",
    "\n",
    "map() is a Python funtion that can be used to apply another function to a list or dictiony. "
   ]
  },
  {
   "cell_type": "code",
   "execution_count": 2,
   "id": "e62b6b8c",
   "metadata": {},
   "outputs": [],
   "source": [
    "numbers = [5, 2, 7, 3, 4, 6, 8, 1]\n",
    "\n",
    "# Let's make a function that caculates squares\n",
    "def square_number(x): \n",
    "    return x**2"
   ]
  },
  {
   "cell_type": "code",
   "execution_count": 3,
   "id": "335f7760",
   "metadata": {},
   "outputs": [
    {
     "name": "stdout",
     "output_type": "stream",
     "text": [
      "Non-Pythonic Approach:  [25, 4, 49, 9, 16, 36, 64, 1]\n"
     ]
    }
   ],
   "source": [
    "# A non-pythonic approach is using a for loop to iterate over each element in our list and append the result to our squares list\n",
    "squares = []\n",
    "for num in numbers:\n",
    "    squares.append(square_number(num))\n",
    "print('Non-Pythonic Approach: ', squares)"
   ]
  },
  {
   "cell_type": "code",
   "execution_count": 4,
   "id": "8bdef061",
   "metadata": {},
   "outputs": [
    {
     "name": "stdout",
     "output_type": "stream",
     "text": [
      "Pythonic Approach:  [25, 4, 49, 9, 16, 36, 64, 1]\n"
     ]
    }
   ],
   "source": [
    "# A pythonic approach would be to use Map. It takes the function and the list as its input arguments.\n",
    "x = map(square_number, numbers)\n",
    "print('Pythonic Approach: ', list(x))"
   ]
  },
  {
   "cell_type": "markdown",
   "id": "97973bf1",
   "metadata": {},
   "source": [
    "# Let's now explore zip()"
   ]
  },
  {
   "cell_type": "code",
   "execution_count": 5,
   "id": "00043d46",
   "metadata": {},
   "outputs": [
    {
     "name": "stdout",
     "output_type": "stream",
     "text": [
      "5 3\n",
      "2 8\n",
      "7 6\n",
      "3 8\n",
      "4 1\n"
     ]
    }
   ],
   "source": [
    "a = [5, 2, 7, 3, 4]\n",
    "b = [3, 8, 6, 8, 1]\n",
    "\n",
    "# Iterate over two or more lists simultaneously\n",
    "for x, y in zip(a, b):\n",
    "    print(x,y)"
   ]
  },
  {
   "cell_type": "markdown",
   "id": "19003df9",
   "metadata": {},
   "source": [
    "# Now let's look at filter().\n",
    "Filter takes a function and a sequence (list or dictionarty) as its input and works similarly to **map** however, filter only stores the elements that were evaluated to be **True**"
   ]
  },
  {
   "cell_type": "code",
   "execution_count": 6,
   "id": "f459062c",
   "metadata": {},
   "outputs": [],
   "source": [
    "numbers = [5, 2, 7, 3, 4, 6, 8, 1, 9, 0, 10]\n",
    "\n",
    "# Will return true if input number is even\n",
    "def isEven(x):\n",
    "    return x % 2 == 0"
   ]
  },
  {
   "cell_type": "code",
   "execution_count": 7,
   "id": "7d5da3b0",
   "metadata": {},
   "outputs": [
    {
     "name": "stdout",
     "output_type": "stream",
     "text": [
      "Non-Pythonic Approach:  [2, 4, 6, 8, 0, 10]\n"
     ]
    }
   ],
   "source": [
    "# A non-pythonic approach would be to use a for loop with an if statement inside\n",
    "even_numbers = []\n",
    "for num in numbers:\n",
    "    if isEven(num):\n",
    "        even_numbers.append(num)\n",
    "print('Non-Pythonic Approach: ', even_numbers)"
   ]
  },
  {
   "cell_type": "code",
   "execution_count": 8,
   "id": "41dacfd2",
   "metadata": {},
   "outputs": [
    {
     "name": "stdout",
     "output_type": "stream",
     "text": [
      "Pythonic Approach:  [2, 4, 6, 8, 0, 10]\n"
     ]
    }
   ],
   "source": [
    "# A pythonic approach would be to use filter()\n",
    "even_numbers = filter(isEven, numbers)\n",
    "print('Pythonic Approach: ', list(even_numbers))"
   ]
  },
  {
   "cell_type": "code",
   "execution_count": null,
   "id": "9c32a671",
   "metadata": {},
   "outputs": [],
   "source": []
  }
 ],
 "metadata": {
  "kernelspec": {
   "display_name": "Python 3",
   "language": "python",
   "name": "python3"
  },
  "language_info": {
   "codemirror_mode": {
    "name": "ipython",
    "version": 3
   },
   "file_extension": ".py",
   "mimetype": "text/x-python",
   "name": "python",
   "nbconvert_exporter": "python",
   "pygments_lexer": "ipython3",
   "version": "3.8.8"
  }
 },
 "nbformat": 4,
 "nbformat_minor": 5
}
