{
 "cells": [
  {
   "cell_type": "markdown",
   "id": "0c99c781",
   "metadata": {},
   "source": [
    "# Python for Data Science and Data Analytics"
   ]
  },
  {
   "cell_type": "markdown",
   "id": "dadd7c9c",
   "metadata": {},
   "source": [
    "## Variable\n",
    "\n",
    "#### Variables can considerated a container that holds or stores a peice of information from numbers to texts"
   ]
  },
  {
   "cell_type": "code",
   "execution_count": 1,
   "id": "4020d060",
   "metadata": {},
   "outputs": [
    {
     "name": "stdout",
     "output_type": "stream",
     "text": [
      "14\n"
     ]
    }
   ],
   "source": [
    "# storing a number\n",
    "a = 14\n",
    "print(a)"
   ]
  },
  {
   "cell_type": "code",
   "execution_count": 2,
   "id": "c1f6c74e",
   "metadata": {},
   "outputs": [
    {
     "name": "stdout",
     "output_type": "stream",
     "text": [
      "Hello World\n"
     ]
    }
   ],
   "source": [
    "# storing text\n",
    "b = \"Hello World\"\n",
    "print(b)"
   ]
  },
  {
   "cell_type": "markdown",
   "id": "f910c531",
   "metadata": {},
   "source": [
    "#### What can we do with variables?"
   ]
  },
  {
   "cell_type": "code",
   "execution_count": 3,
   "id": "f378d350",
   "metadata": {},
   "outputs": [
    {
     "name": "stdout",
     "output_type": "stream",
     "text": [
      "25\n"
     ]
    }
   ],
   "source": [
    "# Let's add them together\n",
    "x = 17\n",
    "y = 8\n",
    "z = x + y\n",
    "print(z)"
   ]
  },
  {
   "cell_type": "code",
   "execution_count": 4,
   "id": "ac26df49",
   "metadata": {},
   "outputs": [
    {
     "name": "stdout",
     "output_type": "stream",
     "text": [
      "25\n"
     ]
    }
   ],
   "source": [
    "print(x + y)"
   ]
  },
  {
   "cell_type": "code",
   "execution_count": 5,
   "id": "3c637592",
   "metadata": {},
   "outputs": [
    {
     "name": "stdout",
     "output_type": "stream",
     "text": [
      "35\n"
     ]
    }
   ],
   "source": [
    "# we can change values of variable\n",
    "z = 35\n",
    "print(z)"
   ]
  },
  {
   "cell_type": "code",
   "execution_count": 6,
   "id": "0a568beb",
   "metadata": {},
   "outputs": [
    {
     "name": "stdout",
     "output_type": "stream",
     "text": [
      "35\n"
     ]
    }
   ],
   "source": [
    "i = z\n",
    "print(i)"
   ]
  },
  {
   "cell_type": "markdown",
   "id": "a03921f8",
   "metadata": {},
   "source": [
    "## Data Types "
   ]
  },
  {
   "cell_type": "code",
   "execution_count": 7,
   "id": "5c0933ab",
   "metadata": {},
   "outputs": [
    {
     "name": "stdout",
     "output_type": "stream",
     "text": [
      "10\n",
      "<class 'int'>\n",
      "5.0\n",
      "<class 'float'>\n",
      "101\n",
      "<class 'str'>\n",
      "False\n",
      "<class 'bool'>\n"
     ]
    }
   ],
   "source": [
    "# Integer\n",
    "a = 10\n",
    "print(a)\n",
    "print(type(a))\n",
    "\n",
    "# Float \n",
    "b = 5.0\n",
    "print(b)\n",
    "print(type(b))\n",
    "\n",
    "# String also known as text\n",
    "c = \"101\"\n",
    "print(c)\n",
    "print(type(c))\n",
    "\n",
    "# Boolean (True or False)\n",
    "d = False\n",
    "print(d)\n",
    "print(type(d))"
   ]
  },
  {
   "cell_type": "code",
   "execution_count": 8,
   "id": "e7c3ca65",
   "metadata": {},
   "outputs": [
    {
     "name": "stdout",
     "output_type": "stream",
     "text": [
      "25\n",
      "<class 'int'>\n",
      "178\n",
      "<class 'str'>\n"
     ]
    }
   ],
   "source": [
    "# Be careful with variabel operations\n",
    "# integer\n",
    "x = 17\n",
    "y = 8\n",
    "z = x + y\n",
    "print(z)\n",
    "print(type(z))\n",
    "\n",
    "# string\n",
    "xx = '17'\n",
    "yy = '8'\n",
    "zz = xx + yy\n",
    "print(zz)\n",
    "print(type(zz))"
   ]
  },
  {
   "cell_type": "markdown",
   "id": "69bece9e",
   "metadata": {},
   "source": [
    "## Lists "
   ]
  },
  {
   "cell_type": "code",
   "execution_count": 9,
   "id": "f3804b68",
   "metadata": {},
   "outputs": [
    {
     "name": "stdout",
     "output_type": "stream",
     "text": [
      "[10, 11, 12, 13, 14, 15, 16]\n"
     ]
    }
   ],
   "source": [
    "# Simple list\n",
    "list = [10, 11, 12, 13, 14, 15, 16]\n",
    "print(list)"
   ]
  },
  {
   "cell_type": "code",
   "execution_count": 10,
   "id": "bcfcd99b",
   "metadata": {},
   "outputs": [
    {
     "name": "stdout",
     "output_type": "stream",
     "text": [
      "10\n"
     ]
    }
   ],
   "source": [
    "# Indexing lists \n",
    "\n",
    "print(list[0])"
   ]
  },
  {
   "cell_type": "code",
   "execution_count": 11,
   "id": "929fc986",
   "metadata": {},
   "outputs": [
    {
     "name": "stdout",
     "output_type": "stream",
     "text": [
      "11\n"
     ]
    }
   ],
   "source": [
    "print(list[1])"
   ]
  },
  {
   "cell_type": "code",
   "execution_count": 12,
   "id": "04f372b3",
   "metadata": {},
   "outputs": [
    {
     "name": "stdout",
     "output_type": "stream",
     "text": [
      "16\n"
     ]
    }
   ],
   "source": [
    "# element before last position\n",
    "print(list[-1])"
   ]
  },
  {
   "cell_type": "code",
   "execution_count": 13,
   "id": "66aa18e9",
   "metadata": {},
   "outputs": [
    {
     "name": "stdout",
     "output_type": "stream",
     "text": [
      "[11, 12, 13]\n"
     ]
    }
   ],
   "source": [
    "# element between 2nd and 4th\n",
    "print(list[1:4])"
   ]
  },
  {
   "cell_type": "code",
   "execution_count": 14,
   "id": "d0e8372e",
   "metadata": {},
   "outputs": [
    {
     "name": "stdout",
     "output_type": "stream",
     "text": [
      "[10, 11, 12, 13]\n"
     ]
    }
   ],
   "source": [
    "print(list[:4])"
   ]
  },
  {
   "cell_type": "code",
   "execution_count": 15,
   "id": "aad843b6",
   "metadata": {},
   "outputs": [
    {
     "name": "stdout",
     "output_type": "stream",
     "text": [
      "[14, 15, 16]\n"
     ]
    }
   ],
   "source": [
    "print(list[4:])"
   ]
  },
  {
   "cell_type": "code",
   "execution_count": 16,
   "id": "4802fdf1",
   "metadata": {},
   "outputs": [
    {
     "name": "stdout",
     "output_type": "stream",
     "text": [
      "[10, 12, 14, 16]\n"
     ]
    }
   ],
   "source": [
    "print(list[::2])"
   ]
  },
  {
   "cell_type": "code",
   "execution_count": 17,
   "id": "e2b47167",
   "metadata": {},
   "outputs": [
    {
     "name": "stdout",
     "output_type": "stream",
     "text": [
      "[10, 11, 12, 13, 14, 15, 16, 17]\n"
     ]
    }
   ],
   "source": [
    "list.append(17)\n",
    "print(list)"
   ]
  },
  {
   "cell_type": "code",
   "execution_count": 18,
   "id": "2d3cf20f",
   "metadata": {},
   "outputs": [
    {
     "data": {
      "text/plain": [
       "8"
      ]
     },
     "execution_count": 18,
     "metadata": {},
     "output_type": "execute_result"
    }
   ],
   "source": [
    "len(list)"
   ]
  },
  {
   "cell_type": "markdown",
   "id": "c2d67a58",
   "metadata": {},
   "source": [
    "## Dictionaries"
   ]
  },
  {
   "cell_type": "code",
   "execution_count": 19,
   "id": "e5ab4101",
   "metadata": {},
   "outputs": [
    {
     "name": "stdout",
     "output_type": "stream",
     "text": [
      "{'name': 'Indonesia', 'capital': 'Jakarta'}\n",
      "Indonesia\n",
      "Jakarta\n"
     ]
    }
   ],
   "source": [
    "# Creating a dictonary\n",
    "country_info = {\"name\" : \"Indonesia\",\n",
    "                \"capital\" : \"Jakarta\"}\n",
    "\n",
    "print(country_info)\n",
    "print(country_info[\"name\"])\n",
    "print(country_info[\"capital\"])"
   ]
  },
  {
   "cell_type": "code",
   "execution_count": 20,
   "id": "2c28cc57",
   "metadata": {},
   "outputs": [
    {
     "name": "stdout",
     "output_type": "stream",
     "text": [
      "{'name': 'Indonesia', 'capital': 'Jakarta', 'population': '280M'}\n"
     ]
    }
   ],
   "source": [
    "# store multiple values add information to our dictionary \n",
    "country_info[\"population\"] = \"280M\"\n",
    "print(country_info)"
   ]
  },
  {
   "cell_type": "code",
   "execution_count": 21,
   "id": "420fe622",
   "metadata": {},
   "outputs": [
    {
     "name": "stdout",
     "output_type": "stream",
     "text": [
      "{'name': 'Indonesia', 'capital': 'Jakarta', 'population': '280M', 'regions': ['DKI Jakarta', 'Banten', 'Tangerang', 'Jawa Barat', 'Jawa Tengah', 'DIY', 'Jawa Timur']}\n"
     ]
    }
   ],
   "source": [
    "country_info['regions'] = ['DKI Jakarta', 'Banten', 'Tangerang', 'Jawa Barat', 'Jawa Tengah', 'DIY', 'Jawa Timur']\n",
    "print(country_info)"
   ]
  },
  {
   "cell_type": "code",
   "execution_count": 22,
   "id": "b43f29ce",
   "metadata": {},
   "outputs": [
    {
     "name": "stdout",
     "output_type": "stream",
     "text": [
      "{'name': 'Indonesia', 'capital': 'Jakarta', 'population': '280M', 'regions': ['DKI Jakarta', 'Banten', 'Tangerang', 'Jawa Barat', 'Jawa Tengah', 'DIY', 'Jawa Timur'], 'health': {'life_expectacy': 86.1, 'birtd_rate': 1.44}}\n"
     ]
    }
   ],
   "source": [
    "country_info['health'] = {\"life_expectacy\": 86.1, \"birtd_rate\": 1.44}\n",
    "print(country_info)"
   ]
  },
  {
   "cell_type": "code",
   "execution_count": 23,
   "id": "6c1eb70f",
   "metadata": {},
   "outputs": [
    {
     "data": {
      "text/plain": [
       "86.1"
      ]
     },
     "execution_count": 23,
     "metadata": {},
     "output_type": "execute_result"
    }
   ],
   "source": [
    "# Accesing data in our nested dictionary\n",
    "\n",
    "country_info['health']['life_expectacy']"
   ]
  },
  {
   "cell_type": "markdown",
   "id": "90f62114",
   "metadata": {},
   "source": [
    "## Conditional Statements - If & Else"
   ]
  },
  {
   "cell_type": "code",
   "execution_count": 24,
   "id": "bfcbe724",
   "metadata": {},
   "outputs": [
    {
     "name": "stdout",
     "output_type": "stream",
     "text": [
      "over 10\n"
     ]
    }
   ],
   "source": [
    "x = 25\n",
    "if x < 10:\n",
    "    print(\"less than 10\")\n",
    "else:\n",
    "    print(\"over 10\")"
   ]
  },
  {
   "cell_type": "code",
   "execution_count": 25,
   "id": "7bd39781",
   "metadata": {},
   "outputs": [
    {
     "name": "stdout",
     "output_type": "stream",
     "text": [
      "between 11 and 29\n"
     ]
    }
   ],
   "source": [
    "x = 25\n",
    "if x < 10:\n",
    "    print(\"less than 10\")\n",
    "elif x > 10 and x <= 29:\n",
    "    print(\"between 11 and 29\")\n",
    "else:\n",
    "    print(\"over 30\")"
   ]
  },
  {
   "cell_type": "markdown",
   "id": "32ab2fac",
   "metadata": {},
   "source": [
    "#### Odd or even"
   ]
  },
  {
   "cell_type": "code",
   "execution_count": 26,
   "id": "aa1d5954",
   "metadata": {},
   "outputs": [
    {
     "name": "stdout",
     "output_type": "stream",
     "text": [
      "Which number do you want to check? 89\n",
      "This is an odd number\n"
     ]
    }
   ],
   "source": [
    "number = int(input(\"Which number do you want to check? \"))\n",
    "\n",
    "if number % 2 == 0:\n",
    "    print(\"This is an even number\")\n",
    "else :\n",
    "    print(\"This is an odd number\")"
   ]
  },
  {
   "cell_type": "markdown",
   "id": "7f0b4552",
   "metadata": {},
   "source": [
    "## Loops"
   ]
  },
  {
   "cell_type": "markdown",
   "id": "134c56b0",
   "metadata": {},
   "source": [
    "#### for loop with list"
   ]
  },
  {
   "cell_type": "code",
   "execution_count": 27,
   "id": "0b08c7ec",
   "metadata": {},
   "outputs": [
    {
     "name": "stdout",
     "output_type": "stream",
     "text": [
      "Apple\n",
      "Peach\n",
      "Pear\n"
     ]
    }
   ],
   "source": [
    "fruits = [\"Apple\", \"Peach\", \"Pear\"]\n",
    "\n",
    "for fruit in fruits:\n",
    "    print(fruit)"
   ]
  },
  {
   "cell_type": "markdown",
   "id": "2e50f667",
   "metadata": {},
   "source": [
    "#### using the range function"
   ]
  },
  {
   "cell_type": "code",
   "execution_count": 28,
   "id": "33d226fb",
   "metadata": {},
   "outputs": [
    {
     "name": "stdout",
     "output_type": "stream",
     "text": [
      "1\n",
      "2\n",
      "3\n",
      "4\n",
      "5\n",
      "6\n",
      "7\n",
      "8\n",
      "9\n",
      "10\n"
     ]
    }
   ],
   "source": [
    "for number in range(1, 11):\n",
    "    print(number)"
   ]
  },
  {
   "cell_type": "markdown",
   "id": "51dec9b2",
   "metadata": {},
   "source": [
    "#### total number"
   ]
  },
  {
   "cell_type": "code",
   "execution_count": 29,
   "id": "15646b47",
   "metadata": {},
   "outputs": [
    {
     "name": "stdout",
     "output_type": "stream",
     "text": [
      "5050\n"
     ]
    }
   ],
   "source": [
    "total = 0\n",
    "for number in range(1, 101):\n",
    "    total += number\n",
    "print(total)"
   ]
  },
  {
   "cell_type": "markdown",
   "id": "e724d1fc",
   "metadata": {},
   "source": [
    "#### Fizz Buzz games"
   ]
  },
  {
   "cell_type": "code",
   "execution_count": 30,
   "id": "1fca397d",
   "metadata": {},
   "outputs": [
    {
     "name": "stdout",
     "output_type": "stream",
     "text": [
      "1\n",
      "2\n",
      "Fizz\n",
      "4\n",
      "Buzz\n",
      "Fizz\n",
      "7\n",
      "8\n",
      "Fizz\n",
      "Buzz\n",
      "11\n",
      "Fizz\n",
      "13\n",
      "14\n",
      "Fizz Buzz\n",
      "16\n",
      "17\n",
      "Fizz\n",
      "19\n",
      "Buzz\n",
      "Fizz\n",
      "22\n",
      "23\n",
      "Fizz\n",
      "Buzz\n",
      "26\n",
      "Fizz\n",
      "28\n",
      "29\n",
      "Fizz Buzz\n"
     ]
    }
   ],
   "source": [
    "for number in range(1, 31):\n",
    "    if number % 3 == 0 and number % 5 == 0:\n",
    "        print(\"Fizz Buzz\")\n",
    "    elif number % 3 == 0:\n",
    "        print(\"Fizz\")\n",
    "    elif number % 5 == 0:\n",
    "        print(\"Buzz\")\n",
    "    else:\n",
    "        print(number)"
   ]
  },
  {
   "cell_type": "markdown",
   "id": "ce39d74d",
   "metadata": {},
   "source": [
    "# Function"
   ]
  },
  {
   "cell_type": "markdown",
   "id": "fe0824d7",
   "metadata": {},
   "source": [
    "#### Prime Checker"
   ]
  },
  {
   "cell_type": "code",
   "execution_count": 31,
   "id": "de478597",
   "metadata": {},
   "outputs": [
    {
     "name": "stdout",
     "output_type": "stream",
     "text": [
      "Check this number: 89\n",
      "It's a prime number\n"
     ]
    }
   ],
   "source": [
    "def prime_checker(number):\n",
    "    is_prime = True\n",
    "    for i in range(2, number):\n",
    "        if number % i == 0:\n",
    "            is_prime = False\n",
    "    if is_prime:\n",
    "        print(\"It's a prime number\")\n",
    "    else:\n",
    "        print(\"It's not a prime number\")\n",
    "        \n",
    "n = int(input(\"Check this number: \"))\n",
    "prime_checker(number=n)"
   ]
  },
  {
   "cell_type": "markdown",
   "id": "7d8e2cc7",
   "metadata": {},
   "source": [
    "#### Paint Area Calculator"
   ]
  },
  {
   "cell_type": "code",
   "execution_count": 32,
   "id": "696cd08f",
   "metadata": {},
   "outputs": [
    {
     "name": "stdout",
     "output_type": "stream",
     "text": [
      "Height of wall: 4\n",
      "Width of wall: 5\n",
      "You'll need 4 cans of paint.\n"
     ]
    }
   ],
   "source": [
    "def paint_calc(height, width, cover):\n",
    "    number_of_cans = round((height*width)/cover)\n",
    "    print(f\"You'll need {number_of_cans} cans of paint.\")\n",
    "    \n",
    "test_h = int(input(\"Height of wall: \"))\n",
    "test_w = int(input(\"Width of wall: \"))\n",
    "coverage = 5\n",
    "\n",
    "paint_calc(height=test_h, width=test_w, cover=coverage)"
   ]
  },
  {
   "cell_type": "markdown",
   "id": "e60f7329",
   "metadata": {},
   "source": [
    "## Function with input"
   ]
  },
  {
   "cell_type": "code",
   "execution_count": 33,
   "id": "cba5b9b1",
   "metadata": {},
   "outputs": [
    {
     "name": "stdout",
     "output_type": "stream",
     "text": [
      "Hello Ahmad\n",
      "How do you do Ahmad?\n"
     ]
    }
   ],
   "source": [
    "def greet_with_name(name):\n",
    "    print(f\"Hello {name}\")\n",
    "    print(f\"How do you do {name}?\")\n",
    "    \n",
    "greet_with_name(\"Ahmad\")"
   ]
  },
  {
   "cell_type": "markdown",
   "id": "4655c617",
   "metadata": {},
   "source": [
    "## Function with more than one input"
   ]
  },
  {
   "cell_type": "code",
   "execution_count": 34,
   "id": "73bd40d7",
   "metadata": {},
   "outputs": [
    {
     "name": "stdout",
     "output_type": "stream",
     "text": [
      "Hello Ilham\n",
      "What is it like in Surabaya?\n"
     ]
    }
   ],
   "source": [
    "def greet_with(name, location):\n",
    "    print(f\"Hello {name}\")\n",
    "    print(f\"What is it like in {location}?\")\n",
    "greet_with(\"Ilham\", \"Surabaya\")"
   ]
  },
  {
   "cell_type": "code",
   "execution_count": 35,
   "id": "222e4234",
   "metadata": {},
   "outputs": [
    {
     "name": "stdout",
     "output_type": "stream",
     "text": [
      "Hello Ilham\n",
      "What is it like in Surabaya?\n"
     ]
    }
   ],
   "source": [
    "greet_with(location=\"Surabaya\", name=\"Ilham\")"
   ]
  },
  {
   "cell_type": "code",
   "execution_count": null,
   "id": "1341a328",
   "metadata": {},
   "outputs": [],
   "source": []
  }
 ],
 "metadata": {
  "kernelspec": {
   "display_name": "Python 3",
   "language": "python",
   "name": "python3"
  },
  "language_info": {
   "codemirror_mode": {
    "name": "ipython",
    "version": 3
   },
   "file_extension": ".py",
   "mimetype": "text/x-python",
   "name": "python",
   "nbconvert_exporter": "python",
   "pygments_lexer": "ipython3",
   "version": "3.8.8"
  }
 },
 "nbformat": 4,
 "nbformat_minor": 5
}
